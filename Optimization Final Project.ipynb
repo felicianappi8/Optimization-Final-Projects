{
 "cells": [
  {
   "cell_type": "code",
   "execution_count": 1,
   "id": "95a9c9d6-4023-415f-b4f2-22aa2e693232",
   "metadata": {},
   "outputs": [],
   "source": [
    "#packages \n",
    "using DataFrames, CSV, JuMP, Gurobi, LinearAlgebra, Random, Printf, StatsBase, CategoricalArrays, Distributions\n",
    "const GRB_ENV = Gurobi.Env(output_flag=0);"
   ]
  },
  {
   "cell_type": "code",
   "execution_count": null,
   "id": "ec7fbd53-6fa9-43f1-a960-1460ec16a30a",
   "metadata": {},
   "outputs": [],
   "source": [
    "current_swimmer_times = CSV.read(\"Swimming\")\n",
    "past_swimmer_times = CSV.read(\"\")\n",
    "mean_and_sd_swimmer = "
   ]
  },
  {
   "cell_type": "code",
   "execution_count": null,
   "id": "7bcbf29e-bc26-4763-8c20-7c9b5d6ca71b",
   "metadata": {},
   "outputs": [],
   "source": [
    "#data cleaning \n"
   ]
  },
  {
   "cell_type": "code",
   "execution_count": null,
   "id": "9ead94f8-df0b-446b-8b8b-432919d56807",
   "metadata": {},
   "outputs": [],
   "source": [
    "#getting varaibles prepared for models\n",
    "# number of swimmers"
   ]
  },
  {
   "cell_type": "code",
   "execution_count": null,
   "id": "b69515cc-a7d1-4027-becd-11db946cbf0c",
   "metadata": {},
   "outputs": [],
   "source": [
    "swimmer_mean = mean_and_sd_swimmer[!,2]\n",
    "swimmer_sd = mean_and_sd_swimmer[!,3]"
   ]
  },
  {
   "cell_type": "code",
   "execution_count": null,
   "id": "7a4b3eee-2494-47af-922b-3fe5e286088a",
   "metadata": {},
   "outputs": [],
   "source": [
    "#expected value and standard dev calculation\n",
    "expected_value_i = \n",
    "expected_value_r =\n",
    "standard_dev_i =\n",
    "standard_dev_r =\n",
    "\n"
   ]
  },
  {
   "cell_type": "code",
   "execution_count": null,
   "id": "0c1d404e-11a5-4df7-baec-a04954a0710e",
   "metadata": {},
   "outputs": [],
   "source": [
    "#point calculation algo\n",
    "function point_allocation()\n",
    "    if \n",
    "        then\n",
    "    if \n",
    "        then\n",
    "    if \n",
    "        then\n",
    "    else\n",
    "end"
   ]
  },
  {
   "cell_type": "code",
   "execution_count": null,
   "id": "b9230703-0b04-4aed-a160-292483923964",
   "metadata": {},
   "outputs": [],
   "source": [
    "#baseline model: min time\n",
    "base_model = Model(Gurobi.Optimizer)\n",
    "@variable(base_model, x[1:s,1:n], Bin)\n",
    "@variable(base_model,y{1:s,1:n], Bin)\n",
    "\n",
    "\n",
    "@variable(base_model, x[1:n], Bin)\n",
    "\n",
    "#Second stage variables - scenario dependent, continuous\n",
    "@variable(base_model, y[1:m, 1:n, 1:S] >= 0)\n",
    "@variable(base_model, z[1:m, 1:S] >= 0)\n",
    "@variable(base_model, p[1:n, 1:S] >= 0)"
   ]
  },
  {
   "cell_type": "code",
   "execution_count": null,
   "id": "da58628f-a9e8-45a9-87fd-f5ce32342cc4",
   "metadata": {},
   "outputs": [],
   "source": [
    "# 2nd model: max time"
   ]
  },
  {
   "cell_type": "code",
   "execution_count": null,
   "id": "3203e245-91da-426f-ad90-cf32e175e727",
   "metadata": {},
   "outputs": [],
   "source": [
    "# 3rd model: max points against team"
   ]
  },
  {
   "cell_type": "code",
   "execution_count": null,
   "id": "fd1b8f72-2c63-4711-bc05-71fb306090fa",
   "metadata": {},
   "outputs": [],
   "source": [
    "# 4th model: add uncertainty for against teams "
   ]
  }
 ],
 "metadata": {
  "kernelspec": {
   "display_name": "Julia (IAI) 1.10.4",
   "language": "julia",
   "name": "julia-_iai_-1.10"
  },
  "language_info": {
   "file_extension": ".jl",
   "mimetype": "application/julia",
   "name": "julia",
   "version": "1.10.4"
  }
 },
 "nbformat": 4,
 "nbformat_minor": 5
}
